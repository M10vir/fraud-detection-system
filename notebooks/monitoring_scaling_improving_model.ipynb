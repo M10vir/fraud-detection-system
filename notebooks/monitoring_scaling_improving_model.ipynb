{
 "cells": [
  {
   "cell_type": "code",
   "execution_count": 2,
   "metadata": {
    "gather": {
     "logged": 1739059181245
    }
   },
   "outputs": [
    {
     "name": "stdout",
     "output_type": "stream",
     "text": [
      "Workspace loaded: frauddetectionml\n",
      "Service retrieved: fraud-detection-api\n",
      "Application Insights enabled for the service.\n"
     ]
    }
   ],
   "source": [
    "from azureml.core import Workspace\n",
    "from azureml.core.webservice import AksWebservice\n",
    "\n",
    "# Load the workspace\n",
    "ws = Workspace.from_config()\n",
    "print(\"Workspace loaded:\", ws.name)\n",
    "\n",
    "# Retrieve the deployed service\n",
    "aks_service = AksWebservice(workspace=ws, name=\"fraud-detection-api\")\n",
    "print(\"Service retrieved:\", aks_service.name)\n",
    "\n",
    "# Enable Application Insights\n",
    "aks_service.update(enable_app_insights=True)\n",
    "print(\"Application Insights enabled for the service.\")"
   ]
  },
  {
   "cell_type": "code",
   "execution_count": null,
   "metadata": {
    "gather": {
     "logged": 1739059564958
    }
   },
   "outputs": [],
   "source": [
    "from azureml.core.compute import AksCompute\n",
    "\n",
    "# Retrieve the AKS compute target\n",
    "aks_target = AksCompute(workspace=ws, name=\"cpu-cluster\")  # Replace with your AKS cluster name\n",
    "\n",
    "# Scale the cluster\n",
    "aks_target.update(node_count=3)  # Increase the number of nodes\n",
    "print(\"AKS cluster scaled to 3 nodes.\")"
   ]
  }
 ],
 "metadata": {
  "kernel_info": {
   "name": "python38-azureml"
  },
  "kernelspec": {
   "display_name": "Python 3.8 - AzureML",
   "language": "python",
   "name": "python38-azureml"
  },
  "language_info": {
   "codemirror_mode": {
    "name": "ipython",
    "version": 3
   },
   "file_extension": ".py",
   "mimetype": "text/x-python",
   "name": "python",
   "nbconvert_exporter": "python",
   "pygments_lexer": "ipython3",
   "version": "3.10.11"
  },
  "microsoft": {
   "host": {
    "AzureML": {
     "notebookHasBeenCompleted": true
    }
   },
   "ms_spell_check": {
    "ms_spell_check_language": "en"
   }
  },
  "nteract": {
   "version": "nteract-front-end@1.0.0"
  }
 },
 "nbformat": 4,
 "nbformat_minor": 2
}
