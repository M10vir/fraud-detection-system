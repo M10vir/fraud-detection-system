{
 "cells": [
  {
   "cell_type": "code",
   "execution_count": 3,
   "metadata": {
    "gather": {
     "logged": 1739046144036
    }
   },
   "outputs": [
    {
     "name": "stdout",
     "output_type": "stream",
     "text": [
      "Workspace loaded: frauddetectionml\n"
     ]
    }
   ],
   "source": [
    "from azureml.core import Workspace\n",
    "\n",
    "# Load the workspace\n",
    "ws = Workspace.from_config()\n",
    "print(\"Workspace loaded:\", ws.name)"
   ]
  },
  {
   "cell_type": "code",
   "execution_count": 4,
   "metadata": {
    "gather": {
     "logged": 1739046186994
    }
   },
   "outputs": [
    {
     "name": "stdout",
     "output_type": "stream",
     "text": [
      "Environment retrieved: lightgbm-environment\n"
     ]
    }
   ],
   "source": [
    "from azureml.core import Environment\n",
    "\n",
    "# Retrieve the custom environment\n",
    "environment = Environment.get(workspace=ws, name=\"lightgbm-environment\")\n",
    "print(\"Environment retrieved:\", environment.name)"
   ]
  },
  {
   "cell_type": "code",
   "execution_count": 6,
   "metadata": {
    "gather": {
     "logged": 1739047681249
    }
   },
   "outputs": [
    {
     "name": "stdout",
     "output_type": "stream",
     "text": [
      "Current working directory: /mnt/batch/tasks/shared/LS_root/mounts/clusters/fraud-detection-compute/code/Users/2kemo2sabe\n",
      "Files in directory: ['.amlignore', '.amlignore.amltmp', '.ipynb_aml_checkpoints', 'CreateaComputeTargetipynb.ipynb', 'createacomputetargetipynb.ipynb.amltmp', 'creditcard.csv', 'Data_Preprocessing.ipynb', 'data_preprocessing.ipynb.amltmp', 'Deployment_model.ipynb', 'deployment_model.ipynb.amltmp', 'Hyperparameter_Tuning.ipynb', 'hyperparameter_tuning.ipynb.amltmp', 'lightgbm.ipynb.amltmp', 'LightGBM_model.ipynb', 'lightgbm_model.ipynb.amltmp', 'lightgbm_model.pkl', 'logistic_regression_model.pkl', 'score.py', 'score.py.amltmp', 'train_lightgbm.py', 'train_lightgbm.py.amltmp', 'xgboost.ipynb.amltmp', 'XGBoost_model.ipynb', 'xgboost_model.ipynb.amltmp', 'xgboost_model.pkl', 'X_test.csv', 'X_train.csv', 'y_test.csv', 'y_train.csv']\n"
     ]
    }
   ],
   "source": [
    "import os\n",
    "print(\"Current working directory:\", os.getcwd())\n",
    "print(\"Files in directory:\", os.listdir())"
   ]
  },
  {
   "cell_type": "code",
   "execution_count": 10,
   "metadata": {
    "gather": {
     "logged": 1739048034760
    }
   },
   "outputs": [
    {
     "name": "stdout",
     "output_type": "stream",
     "text": [
      "Requirement already satisfied: azureml-sdk in /anaconda/envs/azureml_py38/lib/python3.10/site-packages (1.57.0)\n",
      "Collecting azureml-sdk\n",
      "  Downloading azureml_sdk-1.59.0-py3-none-any.whl (2.7 kB)\n",
      "Requirement already satisfied: azureml-core~=1.59.0 in /anaconda/envs/azureml_py38/lib/python3.10/site-packages (from azureml-sdk) (1.59.0.post1)\n",
      "Collecting azureml-train-automl-client~=1.59.0\n",
      "  Downloading azureml_train_automl_client-1.59.0-py3-none-any.whl (137 kB)\n",
      "\u001b[2K     \u001b[90m━━━━━━━━━━━━━━━━━━━━━━━━━━━━━━━━━━━━━\u001b[0m \u001b[32m137.6/137.6 kB\u001b[0m \u001b[31m685.5 kB/s\u001b[0m eta \u001b[36m0:00:00\u001b[0ma \u001b[36m0:00:01\u001b[0m\n",
      "\u001b[?25hCollecting azureml-train-core~=1.59.0\n",
      "  Downloading azureml_train_core-1.59.0-py3-none-any.whl (8.6 MB)\n",
      "\u001b[2K     \u001b[90m━━━━━━━━━━━━━━━━━━━━━━━━━━━━━━━━━━━━━━━━\u001b[0m \u001b[32m8.6/8.6 MB\u001b[0m \u001b[31m15.6 MB/s\u001b[0m eta \u001b[36m0:00:00\u001b[0m00:01\u001b[0m00:01\u001b[0m\n",
      "\u001b[?25hCollecting azureml-dataset-runtime[fuse]~=1.59.0\n",
      "  Downloading azureml_dataset_runtime-1.59.0-py3-none-any.whl (2.2 kB)\n",
      "Collecting azureml-pipeline~=1.59.0\n",
      "  Downloading azureml_pipeline-1.59.0-py3-none-any.whl (2.4 kB)\n",
      "Requirement already satisfied: msal<2.0.0,>=1.15.0 in /anaconda/envs/azureml_py38/lib/python3.10/site-packages (from azureml-core~=1.59.0->azureml-sdk) (1.30.0)\n",
      "Requirement already satisfied: knack<0.13.0 in /anaconda/envs/azureml_py38/lib/python3.10/site-packages (from azureml-core~=1.59.0->azureml-sdk) (0.11.0)\n",
      "Requirement already satisfied: humanfriendly<11.0,>=4.7 in /anaconda/envs/azureml_py38/lib/python3.10/site-packages (from azureml-core~=1.59.0->azureml-sdk) (10.0)\n",
      "Requirement already satisfied: jmespath<2.0.0 in /anaconda/envs/azureml_py38/lib/python3.10/site-packages (from azureml-core~=1.59.0->azureml-sdk) (0.10.0)\n",
      "Requirement already satisfied: adal<=1.2.7,>=1.2.0 in /anaconda/envs/azureml_py38/lib/python3.10/site-packages (from azureml-core~=1.59.0->azureml-sdk) (1.2.7)\n",
      "Requirement already satisfied: azure-core<2.0.0 in /anaconda/envs/azureml_py38/lib/python3.10/site-packages (from azureml-core~=1.59.0->azureml-sdk) (1.30.2)\n",
      "Requirement already satisfied: pyopenssl<25.0.0 in /anaconda/envs/azureml_py38/lib/python3.10/site-packages (from azureml-core~=1.59.0->azureml-sdk) (23.0.0)\n",
      "Requirement already satisfied: msrestazure<=0.7,>=0.4.33 in /anaconda/envs/azureml_py38/lib/python3.10/site-packages (from azureml-core~=1.59.0->azureml-sdk) (0.6.4.post1)\n",
      "Requirement already satisfied: azure-mgmt-storage<=22.0.0,>=16.0.0 in /anaconda/envs/azureml_py38/lib/python3.10/site-packages (from azureml-core~=1.59.0->azureml-sdk) (21.2.0)\n",
      "Requirement already satisfied: msrest<=0.7.1,>=0.5.1 in /anaconda/envs/azureml_py38/lib/python3.10/site-packages (from azureml-core~=1.59.0->azureml-sdk) (0.7.1)\n",
      "Requirement already satisfied: argcomplete<4 in /anaconda/envs/azureml_py38/lib/python3.10/site-packages (from azureml-core~=1.59.0->azureml-sdk) (3.3.0)\n",
      "Requirement already satisfied: azure-mgmt-containerregistry<11,>=8.2.0 in /anaconda/envs/azureml_py38/lib/python3.10/site-packages (from azureml-core~=1.59.0->azureml-sdk) (10.3.0)\n",
      "Requirement already satisfied: msal-extensions<=2.0.0,>=0.3.0 in /anaconda/envs/azureml_py38/lib/python3.10/site-packages (from azureml-core~=1.59.0->azureml-sdk) (1.2.0)\n",
      "Requirement already satisfied: PyJWT<3.0.0 in /anaconda/envs/azureml_py38/lib/python3.10/site-packages (from azureml-core~=1.59.0->azureml-sdk) (2.4.0)\n",
      "Requirement already satisfied: ndg-httpsclient<=0.5.1 in /anaconda/envs/azureml_py38/lib/python3.10/site-packages (from azureml-core~=1.59.0->azureml-sdk) (0.5.1)\n",
      "Requirement already satisfied: docker<8.0.0 in /anaconda/envs/azureml_py38/lib/python3.10/site-packages (from azureml-core~=1.59.0->azureml-sdk) (7.1.0)\n",
      "Requirement already satisfied: azure-mgmt-keyvault<11.0.0,>=0.40.0 in /anaconda/envs/azureml_py38/lib/python3.10/site-packages (from azureml-core~=1.59.0->azureml-sdk) (10.3.0)\n",
      "Requirement already satisfied: azure-mgmt-resource<=24.0.0,>=15.0.0 in /anaconda/envs/azureml_py38/lib/python3.10/site-packages (from azureml-core~=1.59.0->azureml-sdk) (23.1.1)\n",
      "Requirement already satisfied: packaging<=25.0,>=20.0 in /anaconda/envs/azureml_py38/lib/python3.10/site-packages (from azureml-core~=1.59.0->azureml-sdk) (24.1)\n",
      "Requirement already satisfied: backports.tempfile in /anaconda/envs/azureml_py38/lib/python3.10/site-packages (from azureml-core~=1.59.0->azureml-sdk) (1.0)\n",
      "Requirement already satisfied: paramiko<4.0.0,>=2.0.8 in /anaconda/envs/azureml_py38/lib/python3.10/site-packages (from azureml-core~=1.59.0->azureml-sdk) (3.4.0)\n",
      "Requirement already satisfied: azure-graphrbac<1.0.0,>=0.40.0 in /anaconda/envs/azureml_py38/lib/python3.10/site-packages (from azureml-core~=1.59.0->azureml-sdk) (0.60.0)\n",
      "Requirement already satisfied: pytz in /anaconda/envs/azureml_py38/lib/python3.10/site-packages (from azureml-core~=1.59.0->azureml-sdk) (2022.5)\n",
      "Requirement already satisfied: contextlib2<22.0.0 in /anaconda/envs/azureml_py38/lib/python3.10/site-packages (from azureml-core~=1.59.0->azureml-sdk) (21.6.0)\n",
      "Requirement already satisfied: azure-mgmt-authorization<5,>=0.40.0 in /anaconda/envs/azureml_py38/lib/python3.10/site-packages (from azureml-core~=1.59.0->azureml-sdk) (4.0.0)\n",
      "Requirement already satisfied: pathspec<1.0.0 in /anaconda/envs/azureml_py38/lib/python3.10/site-packages (from azureml-core~=1.59.0->azureml-sdk) (0.12.1)\n",
      "Requirement already satisfied: azure-common<2.0.0,>=1.1.12 in /anaconda/envs/azureml_py38/lib/python3.10/site-packages (from azureml-core~=1.59.0->azureml-sdk) (1.1.28)\n",
      "Requirement already satisfied: requests[socks]<3.0.0,>=2.19.1 in /anaconda/envs/azureml_py38/lib/python3.10/site-packages (from azureml-core~=1.59.0->azureml-sdk) (2.32.3)\n",
      "Requirement already satisfied: azure-mgmt-network<=29.0.0 in /anaconda/envs/azureml_py38/lib/python3.10/site-packages (from azureml-core~=1.59.0->azureml-sdk) (25.1.0)\n",
      "Requirement already satisfied: SecretStorage<4.0.0 in /anaconda/envs/azureml_py38/lib/python3.10/site-packages (from azureml-core~=1.59.0->azureml-sdk) (3.3.3)\n",
      "Requirement already satisfied: python-dateutil<3.0.0,>=2.7.3 in /anaconda/envs/azureml_py38/lib/python3.10/site-packages (from azureml-core~=1.59.0->azureml-sdk) (2.9.0.post0)\n",
      "Requirement already satisfied: pkginfo in /anaconda/envs/azureml_py38/lib/python3.10/site-packages (from azureml-core~=1.59.0->azureml-sdk) (1.11.1)\n",
      "Requirement already satisfied: urllib3<3.0.0,>1.26.17 in /anaconda/envs/azureml_py38/lib/python3.10/site-packages (from azureml-core~=1.59.0->azureml-sdk) (1.26.19)\n",
      "Requirement already satisfied: jsonpickle<5.0.0 in /anaconda/envs/azureml_py38/lib/python3.10/site-packages (from azureml-core~=1.59.0->azureml-sdk) (3.2.2)\n",
      "Requirement already satisfied: numpy!=1.19.3,<1.24 in /anaconda/envs/azureml_py38/lib/python3.10/site-packages (from azureml-dataset-runtime[fuse]~=1.59.0->azureml-sdk) (1.23.5)\n",
      "Requirement already satisfied: pyarrow>=0.17.0 in /anaconda/envs/azureml_py38/lib/python3.10/site-packages (from azureml-dataset-runtime[fuse]~=1.59.0->azureml-sdk) (14.0.2)\n",
      "Requirement already satisfied: azureml-dataprep<5.2.0a,>=5.1.0a in /anaconda/envs/azureml_py38/lib/python3.10/site-packages (from azureml-dataset-runtime[fuse]~=1.59.0->azureml-sdk) (5.1.6)\n",
      "Requirement already satisfied: fusepy<4.0.0,>=3.0.1 in /anaconda/envs/azureml_py38/lib/python3.10/site-packages (from azureml-dataset-runtime[fuse]~=1.59.0->azureml-sdk) (3.0.1)\n",
      "Collecting azureml-pipeline-steps~=1.59.0\n",
      "  Downloading azureml_pipeline_steps-1.59.0-py3-none-any.whl (69 kB)\n",
      "\u001b[2K     \u001b[90m━━━━━━━━━━━━━━━━━━━━━━━━━━━━━━━━━━━━━━━━\u001b[0m \u001b[32m69.6/69.6 kB\u001b[0m \u001b[31m10.5 MB/s\u001b[0m eta \u001b[36m0:00:00\u001b[0m\n",
      "\u001b[?25hCollecting azureml-pipeline-core~=1.59.0\n",
      "  Downloading azureml_pipeline_core-1.59.0-py3-none-any.whl (313 kB)\n",
      "\u001b[2K     \u001b[90m━━━━━━━━━━━━━━━━━━━━━━━━━━━━━━━━━━━━━━\u001b[0m \u001b[32m313.7/313.7 kB\u001b[0m \u001b[31m36.6 MB/s\u001b[0m eta \u001b[36m0:00:00\u001b[0m\n",
      "\u001b[?25hCollecting azureml-telemetry~=1.59.0\n",
      "  Downloading azureml_telemetry-1.59.0-py3-none-any.whl (30 kB)\n",
      "Collecting azureml-automl-core~=1.59.0\n",
      "  Downloading azureml_automl_core-1.59.0-py3-none-any.whl (245 kB)\n",
      "\u001b[2K     \u001b[90m━━━━━━━━━━━━━━━━━━━━━━━━━━━━━━━━━━━━━━\u001b[0m \u001b[32m245.0/245.0 kB\u001b[0m \u001b[31m29.8 MB/s\u001b[0m eta \u001b[36m0:00:00\u001b[0m\n",
      "\u001b[?25hCollecting azureml-train-restclients-hyperdrive~=1.59.0\n",
      "  Downloading azureml_train_restclients_hyperdrive-1.59.0-py3-none-any.whl (18 kB)\n",
      "Requirement already satisfied: cryptography>=1.1.0 in /anaconda/envs/azureml_py38/lib/python3.10/site-packages (from adal<=1.2.7,>=1.2.0->azureml-core~=1.59.0->azureml-sdk) (38.0.4)\n",
      "Requirement already satisfied: typing-extensions>=4.6.0 in /anaconda/envs/azureml_py38/lib/python3.10/site-packages (from azure-core<2.0.0->azureml-core~=1.59.0->azureml-sdk) (4.12.2)\n",
      "Requirement already satisfied: six>=1.11.0 in /anaconda/envs/azureml_py38/lib/python3.10/site-packages (from azure-core<2.0.0->azureml-core~=1.59.0->azureml-sdk) (1.16.0)\n",
      "Requirement already satisfied: isodate<1.0.0,>=0.6.1 in /anaconda/envs/azureml_py38/lib/python3.10/site-packages (from azure-mgmt-authorization<5,>=0.40.0->azureml-core~=1.59.0->azureml-sdk) (0.6.1)\n",
      "Requirement already satisfied: azure-mgmt-core<2.0.0,>=1.3.2 in /anaconda/envs/azureml_py38/lib/python3.10/site-packages (from azure-mgmt-authorization<5,>=0.40.0->azureml-core~=1.59.0->azureml-sdk) (1.4.0)\n",
      "Requirement already satisfied: importlib-metadata<=8.2.0 in /anaconda/envs/azureml_py38/lib/python3.10/site-packages (from azureml-automl-core~=1.59.0->azureml-train-automl-client~=1.59.0->azureml-sdk) (8.2.0)\n",
      "Requirement already satisfied: importlib-resources<=6.4.0 in /anaconda/envs/azureml_py38/lib/python3.10/site-packages (from azureml-automl-core~=1.59.0->azureml-train-automl-client~=1.59.0->azureml-sdk) (6.4.0)\n",
      "Requirement already satisfied: cloudpickle<3.0.0,>=1.1.0 in /anaconda/envs/azureml_py38/lib/python3.10/site-packages (from azureml-dataprep<5.2.0a,>=5.1.0a->azureml-dataset-runtime[fuse]~=1.59.0->azureml-sdk) (2.2.1)\n",
      "Requirement already satisfied: pyyaml<7.0.0,>=5.1.0 in /anaconda/envs/azureml_py38/lib/python3.10/site-packages (from azureml-dataprep<5.2.0a,>=5.1.0a->azureml-dataset-runtime[fuse]~=1.59.0->azureml-sdk) (6.0.1)\n",
      "Requirement already satisfied: azureml-dataprep-native<42.0.0,>=41.0.0 in /anaconda/envs/azureml_py38/lib/python3.10/site-packages (from azureml-dataprep<5.2.0a,>=5.1.0a->azureml-dataset-runtime[fuse]~=1.59.0->azureml-sdk) (41.0.0)\n",
      "Requirement already satisfied: jsonschema in /anaconda/envs/azureml_py38/lib/python3.10/site-packages (from azureml-dataprep<5.2.0a,>=5.1.0a->azureml-dataset-runtime[fuse]~=1.59.0->azureml-sdk) (4.23.0)\n",
      "Requirement already satisfied: azureml-dataprep-rslex~=2.22.2dev0 in /anaconda/envs/azureml_py38/lib/python3.10/site-packages (from azureml-dataprep<5.2.0a,>=5.1.0a->azureml-dataset-runtime[fuse]~=1.59.0->azureml-sdk) (2.22.2)\n",
      "Requirement already satisfied: azure-identity>=1.7.0 in /anaconda/envs/azureml_py38/lib/python3.10/site-packages (from azureml-dataprep<5.2.0a,>=5.1.0a->azureml-dataset-runtime[fuse]~=1.59.0->azureml-sdk) (1.17.1)\n",
      "Requirement already satisfied: applicationinsights in /anaconda/envs/azureml_py38/lib/python3.10/site-packages (from azureml-telemetry~=1.59.0->azureml-train-automl-client~=1.59.0->azureml-sdk) (0.11.10)\n",
      "Requirement already satisfied: pygments in /anaconda/envs/azureml_py38/lib/python3.10/site-packages (from knack<0.13.0->azureml-core~=1.59.0->azureml-sdk) (2.18.0)\n",
      "Requirement already satisfied: tabulate in /anaconda/envs/azureml_py38/lib/python3.10/site-packages (from knack<0.13.0->azureml-core~=1.59.0->azureml-sdk) (0.9.0)\n",
      "Requirement already satisfied: portalocker<3,>=1.4 in /anaconda/envs/azureml_py38/lib/python3.10/site-packages (from msal-extensions<=2.0.0,>=0.3.0->azureml-core~=1.59.0->azureml-sdk) (2.10.1)\n",
      "Requirement already satisfied: certifi>=2017.4.17 in /anaconda/envs/azureml_py38/lib/python3.10/site-packages (from msrest<=0.7.1,>=0.5.1->azureml-core~=1.59.0->azureml-sdk) (2024.8.30)\n",
      "Requirement already satisfied: requests-oauthlib>=0.5.0 in /anaconda/envs/azureml_py38/lib/python3.10/site-packages (from msrest<=0.7.1,>=0.5.1->azureml-core~=1.59.0->azureml-sdk) (2.0.0)\n",
      "Requirement already satisfied: pyasn1>=0.1.1 in /anaconda/envs/azureml_py38/lib/python3.10/site-packages (from ndg-httpsclient<=0.5.1->azureml-core~=1.59.0->azureml-sdk) (0.6.0)\n",
      "Requirement already satisfied: bcrypt>=3.2 in /anaconda/envs/azureml_py38/lib/python3.10/site-packages (from paramiko<4.0.0,>=2.0.8->azureml-core~=1.59.0->azureml-sdk) (4.2.0)\n",
      "Requirement already satisfied: pynacl>=1.5 in /anaconda/envs/azureml_py38/lib/python3.10/site-packages (from paramiko<4.0.0,>=2.0.8->azureml-core~=1.59.0->azureml-sdk) (1.5.0)\n",
      "Requirement already satisfied: idna<4,>=2.5 in /anaconda/envs/azureml_py38/lib/python3.10/site-packages (from requests[socks]<3.0.0,>=2.19.1->azureml-core~=1.59.0->azureml-sdk) (3.7)\n",
      "Requirement already satisfied: charset-normalizer<4,>=2 in /anaconda/envs/azureml_py38/lib/python3.10/site-packages (from requests[socks]<3.0.0,>=2.19.1->azureml-core~=1.59.0->azureml-sdk) (3.3.2)\n",
      "Requirement already satisfied: PySocks!=1.5.7,>=1.5.6 in /anaconda/envs/azureml_py38/lib/python3.10/site-packages (from requests[socks]<3.0.0,>=2.19.1->azureml-core~=1.59.0->azureml-sdk) (1.7.1)\n",
      "Requirement already satisfied: jeepney>=0.6 in /anaconda/envs/azureml_py38/lib/python3.10/site-packages (from SecretStorage<4.0.0->azureml-core~=1.59.0->azureml-sdk) (0.8.0)\n",
      "Requirement already satisfied: backports.weakref in /anaconda/envs/azureml_py38/lib/python3.10/site-packages (from backports.tempfile->azureml-core~=1.59.0->azureml-sdk) (1.0.post1)\n",
      "Requirement already satisfied: cffi>=1.12 in /anaconda/envs/azureml_py38/lib/python3.10/site-packages (from cryptography>=1.1.0->adal<=1.2.7,>=1.2.0->azureml-core~=1.59.0->azureml-sdk) (1.16.0)\n",
      "Requirement already satisfied: zipp>=0.5 in /anaconda/envs/azureml_py38/lib/python3.10/site-packages (from importlib-metadata<=8.2.0->azureml-automl-core~=1.59.0->azureml-train-automl-client~=1.59.0->azureml-sdk) (3.19.2)\n",
      "Requirement already satisfied: oauthlib>=3.0.0 in /anaconda/envs/azureml_py38/lib/python3.10/site-packages (from requests-oauthlib>=0.5.0->msrest<=0.7.1,>=0.5.1->azureml-core~=1.59.0->azureml-sdk) (3.2.2)\n",
      "Requirement already satisfied: attrs>=22.2.0 in /anaconda/envs/azureml_py38/lib/python3.10/site-packages (from jsonschema->azureml-dataprep<5.2.0a,>=5.1.0a->azureml-dataset-runtime[fuse]~=1.59.0->azureml-sdk) (24.2.0)\n",
      "Requirement already satisfied: jsonschema-specifications>=2023.03.6 in /anaconda/envs/azureml_py38/lib/python3.10/site-packages (from jsonschema->azureml-dataprep<5.2.0a,>=5.1.0a->azureml-dataset-runtime[fuse]~=1.59.0->azureml-sdk) (2023.12.1)\n",
      "Requirement already satisfied: referencing>=0.28.4 in /anaconda/envs/azureml_py38/lib/python3.10/site-packages (from jsonschema->azureml-dataprep<5.2.0a,>=5.1.0a->azureml-dataset-runtime[fuse]~=1.59.0->azureml-sdk) (0.35.1)\n",
      "Requirement already satisfied: rpds-py>=0.7.1 in /anaconda/envs/azureml_py38/lib/python3.10/site-packages (from jsonschema->azureml-dataprep<5.2.0a,>=5.1.0a->azureml-dataset-runtime[fuse]~=1.59.0->azureml-sdk) (0.19.1)\n",
      "Requirement already satisfied: pycparser in /anaconda/envs/azureml_py38/lib/python3.10/site-packages (from cffi>=1.12->cryptography>=1.1.0->adal<=1.2.7,>=1.2.0->azureml-core~=1.59.0->azureml-sdk) (2.22)\n",
      "Installing collected packages: azureml-train-restclients-hyperdrive, azureml-telemetry, azureml-pipeline-core, azureml-train-core, azureml-dataset-runtime, azureml-automl-core, azureml-train-automl-client, azureml-pipeline-steps, azureml-pipeline, azureml-sdk\n",
      "  Attempting uninstall: azureml-train-restclients-hyperdrive\n",
      "    Found existing installation: azureml-train-restclients-hyperdrive 1.57.0\n",
      "    Uninstalling azureml-train-restclients-hyperdrive-1.57.0:\n",
      "      Successfully uninstalled azureml-train-restclients-hyperdrive-1.57.0\n",
      "  Attempting uninstall: azureml-telemetry\n",
      "    Found existing installation: azureml-telemetry 1.57.0\n",
      "    Uninstalling azureml-telemetry-1.57.0:\n",
      "      Successfully uninstalled azureml-telemetry-1.57.0\n",
      "  Attempting uninstall: azureml-pipeline-core\n",
      "    Found existing installation: azureml-pipeline-core 1.57.0\n",
      "    Uninstalling azureml-pipeline-core-1.57.0:\n",
      "      Successfully uninstalled azureml-pipeline-core-1.57.0\n",
      "  Attempting uninstall: azureml-train-core\n",
      "    Found existing installation: azureml-train-core 1.57.0\n",
      "    Uninstalling azureml-train-core-1.57.0:\n",
      "      Successfully uninstalled azureml-train-core-1.57.0\n",
      "  Attempting uninstall: azureml-dataset-runtime\n",
      "    Found existing installation: azureml-dataset-runtime 1.57.0\n",
      "    Uninstalling azureml-dataset-runtime-1.57.0:\n",
      "      Successfully uninstalled azureml-dataset-runtime-1.57.0\n",
      "  Attempting uninstall: azureml-automl-core\n",
      "    Found existing installation: azureml-automl-core 1.57.0\n",
      "    Uninstalling azureml-automl-core-1.57.0:\n",
      "      Successfully uninstalled azureml-automl-core-1.57.0\n",
      "  Attempting uninstall: azureml-train-automl-client\n",
      "    Found existing installation: azureml-train-automl-client 1.57.0\n",
      "    Uninstalling azureml-train-automl-client-1.57.0:\n",
      "      Successfully uninstalled azureml-train-automl-client-1.57.0\n",
      "  Attempting uninstall: azureml-pipeline-steps\n",
      "    Found existing installation: azureml-pipeline-steps 1.57.0\n",
      "    Uninstalling azureml-pipeline-steps-1.57.0:\n",
      "      Successfully uninstalled azureml-pipeline-steps-1.57.0\n",
      "  Attempting uninstall: azureml-pipeline\n",
      "    Found existing installation: azureml-pipeline 1.57.0\n",
      "    Uninstalling azureml-pipeline-1.57.0:\n",
      "      Successfully uninstalled azureml-pipeline-1.57.0\n",
      "  Attempting uninstall: azureml-sdk\n",
      "    Found existing installation: azureml-sdk 1.57.0\n",
      "    Uninstalling azureml-sdk-1.57.0:\n",
      "      Successfully uninstalled azureml-sdk-1.57.0\n",
      "\u001b[31mERROR: pip's dependency resolver does not currently take into account all the packages that are installed. This behaviour is the source of the following dependency conflicts.\n",
      "azureml-widgets 1.57.0 requires azureml-core~=1.57.0, but you have azureml-core 1.59.0.post1 which is incompatible.\n",
      "azureml-widgets 1.57.0 requires azureml-telemetry~=1.57.0, but you have azureml-telemetry 1.59.0 which is incompatible.\n",
      "azureml-training-tabular 1.57.0 requires azureml-automl-core~=1.57.0, but you have azureml-automl-core 1.59.0 which is incompatible.\n",
      "azureml-train 1.57.0 requires azureml-train-core~=1.57.0, but you have azureml-train-core 1.59.0 which is incompatible.\n",
      "azureml-train-automl 1.57.0 requires azureml-automl-core~=1.57.0, but you have azureml-automl-core 1.59.0 which is incompatible.\n",
      "azureml-train-automl 1.57.0 requires azureml-dataset-runtime[fuse,pandas]~=1.57.0, but you have azureml-dataset-runtime 1.59.0 which is incompatible.\n",
      "azureml-train-automl 1.57.0 requires azureml-train-automl-client~=1.57.0, but you have azureml-train-automl-client 1.59.0 which is incompatible.\n",
      "azureml-train-automl-runtime 1.57.0 requires azureml-automl-core~=1.57.0, but you have azureml-automl-core 1.59.0 which is incompatible.\n",
      "azureml-train-automl-runtime 1.57.0 requires azureml-core~=1.57.0, but you have azureml-core 1.59.0.post1 which is incompatible.\n",
      "azureml-train-automl-runtime 1.57.0 requires azureml-dataset-runtime[fuse,pandas]~=1.57.0, but you have azureml-dataset-runtime 1.59.0 which is incompatible.\n",
      "azureml-train-automl-runtime 1.57.0 requires azureml-telemetry~=1.57.0, but you have azureml-telemetry 1.59.0 which is incompatible.\n",
      "azureml-train-automl-runtime 1.57.0 requires azureml-train-automl-client~=1.57.0, but you have azureml-train-automl-client 1.59.0 which is incompatible.\n",
      "azureml-responsibleai 1.57.0 requires azureml-core~=1.57.0, but you have azureml-core 1.59.0.post1 which is incompatible.\n",
      "azureml-responsibleai 1.57.0 requires azureml-dataset-runtime~=1.57.0, but you have azureml-dataset-runtime 1.59.0 which is incompatible.\n",
      "azureml-responsibleai 1.57.0 requires azureml-telemetry~=1.57.0, but you have azureml-telemetry 1.59.0 which is incompatible.\n",
      "azureml-opendatasets 1.57.0 requires azureml-core~=1.57.0, but you have azureml-core 1.59.0.post1 which is incompatible.\n",
      "azureml-opendatasets 1.57.0 requires azureml-dataset-runtime[fuse,pandas]~=1.57.0, but you have azureml-dataset-runtime 1.59.0 which is incompatible.\n",
      "azureml-opendatasets 1.57.0 requires azureml-telemetry~=1.57.0, but you have azureml-telemetry 1.59.0 which is incompatible.\n",
      "azureml-defaults 1.57.0 requires azureml-core~=1.57.0, but you have azureml-core 1.59.0.post1 which is incompatible.\n",
      "azureml-defaults 1.57.0 requires azureml-dataset-runtime[fuse]~=1.57.0, but you have azureml-dataset-runtime 1.59.0 which is incompatible.\n",
      "azureml-defaults 1.57.0 requires azureml-inference-server-http~=1.2.1, but you have azureml-inference-server-http 1.4.0 which is incompatible.\n",
      "azureml-datadrift 1.57.0 requires azureml-core~=1.57.0, but you have azureml-core 1.59.0.post1 which is incompatible.\n",
      "azureml-datadrift 1.57.0 requires azureml-dataset-runtime[fuse,pandas]~=1.57.0, but you have azureml-dataset-runtime 1.59.0 which is incompatible.\n",
      "azureml-datadrift 1.57.0 requires azureml-pipeline-core~=1.57.0, but you have azureml-pipeline-core 1.59.0 which is incompatible.\n",
      "azureml-datadrift 1.57.0 requires azureml-telemetry~=1.57.0, but you have azureml-telemetry 1.59.0 which is incompatible.\n",
      "azureml-contrib-reinforcementlearning 1.57.0 requires azureml-core~=1.57.0, but you have azureml-core 1.59.0.post1 which is incompatible.\n",
      "azureml-contrib-reinforcementlearning 1.57.0 requires azureml-train-core~=1.57.0, but you have azureml-train-core 1.59.0 which is incompatible.\n",
      "azureml-contrib-pipeline-steps 1.57.0 requires azureml-core~=1.57.0, but you have azureml-core 1.59.0.post1 which is incompatible.\n",
      "azureml-contrib-pipeline-steps 1.57.0 requires azureml-dataset-runtime~=1.57.0, but you have azureml-dataset-runtime 1.59.0 which is incompatible.\n",
      "azureml-contrib-pipeline-steps 1.57.0 requires azureml-pipeline-core~=1.57.0, but you have azureml-pipeline-core 1.59.0 which is incompatible.\n",
      "azureml-contrib-notebook 1.57.0 requires azureml-core~=1.57.0, but you have azureml-core 1.59.0.post1 which is incompatible.\n",
      "azureml-contrib-notebook 1.57.0 requires azureml-pipeline-core~=1.57.0, but you have azureml-pipeline-core 1.59.0 which is incompatible.\n",
      "azureml-contrib-dataset 1.57.0 requires azureml-core~=1.57.0, but you have azureml-core 1.59.0.post1 which is incompatible.\n",
      "azureml-contrib-dataset 1.57.0 requires azureml-dataset-runtime[fuse,pandas]~=1.57.0, but you have azureml-dataset-runtime 1.59.0 which is incompatible.\n",
      "azureml-contrib-automl-pipeline-steps 1.57.0 requires azureml-pipeline-steps~=1.57.0, but you have azureml-pipeline-steps 1.59.0 which is incompatible.\n",
      "azureml-cli-common 1.57.0 requires azureml-core~=1.57.0, but you have azureml-core 1.59.0.post1 which is incompatible.\n",
      "azureml-cli-common 1.57.0 requires azureml-pipeline-core~=1.57.0, but you have azureml-pipeline-core 1.59.0 which is incompatible.\n",
      "azureml-cli-common 1.57.0 requires azureml-train-core~=1.57.0; python_version >= \"3.5\", but you have azureml-train-core 1.59.0 which is incompatible.\n",
      "azureml-automl-runtime 1.57.0 requires azureml-automl-core~=1.57.0, but you have azureml-automl-core 1.59.0 which is incompatible.\n",
      "azureml-automl-runtime 1.57.0 requires azureml-dataset-runtime[fuse,pandas]~=1.57.0, but you have azureml-dataset-runtime 1.59.0 which is incompatible.\n",
      "azureml-automl-dnn-nlp 1.57.0 requires azureml-automl-core~=1.57.0, but you have azureml-automl-core 1.59.0 which is incompatible.\n",
      "azureml-automl-dnn-nlp 1.57.0 requires azureml-core~=1.57.0, but you have azureml-core 1.59.0.post1 which is incompatible.\n",
      "azureml-automl-dnn-nlp 1.57.0 requires azureml-telemetry~=1.57.0, but you have azureml-telemetry 1.59.0 which is incompatible.\n",
      "azureml-automl-dnn-nlp 1.57.0 requires torch==1.13.1, but you have torch 2.4.1 which is incompatible.\u001b[0m\u001b[31m\n",
      "\u001b[0mSuccessfully installed azureml-automl-core-1.59.0 azureml-dataset-runtime-1.59.0 azureml-pipeline-1.59.0 azureml-pipeline-core-1.59.0 azureml-pipeline-steps-1.59.0 azureml-sdk-1.59.0 azureml-telemetry-1.59.0 azureml-train-automl-client-1.59.0 azureml-train-core-1.59.0 azureml-train-restclients-hyperdrive-1.59.0\n",
      "Note: you may need to restart the kernel to use updated packages.\n"
     ]
    }
   ],
   "source": [
    "pip install --upgrade azureml-sdk\n"
   ]
  },
  {
   "cell_type": "code",
   "execution_count": 11,
   "metadata": {
    "gather": {
     "logged": 1739048148569
    }
   },
   "outputs": [
    {
     "name": "stdout",
     "output_type": "stream",
     "text": [
      "Azure ML SDK Version: 1.59.0\n"
     ]
    }
   ],
   "source": [
    "import azureml.core\n",
    "print(\"Azure ML SDK Version:\", azureml.core.VERSION)"
   ]
  },
  {
   "cell_type": "code",
   "execution_count": 27,
   "metadata": {
    "gather": {
     "logged": 1739057507037
    }
   },
   "outputs": [
    {
     "name": "stdout",
     "output_type": "stream",
     "text": [
      "Workspace loaded: frauddetectionml\n",
      "Environment retrieved: lightgbm-environment\n",
      "Creating a new AKS compute target...\n",
      "InProgress.............................................................................................................................................\n",
      "SucceededProvisioning operation finished, operation \"Succeeded\"\n",
      "Inference configuration created.\n",
      "Deployment configuration created.\n",
      "Tips: You can try get_logs(): https://aka.ms/debugimage#dockerlog or local deployment: https://aka.ms/debugimage#debug-locally to debug if deployment takes longer than 10 minutes.\n",
      "Running\n",
      "2025-02-08 23:29:06+00:00 Creating Container Registry if not exists..\n",
      "2025-02-08 23:29:10+00:00 Use the existing image..\n",
      "2025-02-08 23:29:19+00:00 Creating resources in AKS..\n",
      "2025-02-08 23:29:28+00:00 Submitting deployment to compute.\n",
      "2025-02-08 23:29:29+00:00 Checking the status of deployment fraud-detection-api..\n",
      "2025-02-08 23:31:35+00:00 Checking the status of inference endpoint fraud-detection-api.\n",
      "Succeeded\n",
      "AKS service creation operation finished, operation \"Succeeded\"\n",
      "Deployment completed. Service URL: http://48.217.133.143:80/api/v1/service/fraud-detection-api/score\n"
     ]
    },
    {
     "name": "stderr",
     "output_type": "stream",
     "text": [
      "/tmp/ipykernel_3152/2096725056.py:73: FutureWarning: azureml.core.model:\n",
      "To leverage new model deployment capabilities, AzureML recommends using CLI/SDK v2 to deploy models as online endpoint, \n",
      "please refer to respective documentations \n",
      "https://docs.microsoft.com/azure/machine-learning/how-to-deploy-managed-online-endpoints /\n",
      "https://docs.microsoft.com/azure/machine-learning/how-to-attach-kubernetes-anywhere \n",
      "For more information on migration, see https://aka.ms/acimoemigration \n",
      "To disable CLI/SDK v1 deprecation warning set AZUREML_LOG_DEPRECATION_WARNING_ENABLED to 'False'\n",
      "  aks_service = Model.deploy(\n"
     ]
    }
   ],
   "source": [
    "from azureml.core import Workspace, Environment, Model, ComputeTarget\n",
    "from azureml.core.compute import AksCompute\n",
    "from azureml.core.model import InferenceConfig\n",
    "from azureml.core.webservice import AksWebservice\n",
    "from azureml.exceptions import ComputeTargetException\n",
    "\n",
    "# Load the workspace\n",
    "try:\n",
    "    ws = Workspace.from_config()\n",
    "    print(\"Workspace loaded:\", ws.name)\n",
    "except Exception as e:\n",
    "    print(\"Failed to load workspace:\", str(e))\n",
    "    raise\n",
    "\n",
    "# Retrieve the custom environment\n",
    "try:\n",
    "    environment = Environment.get(workspace=ws, name=\"lightgbm-environment\")\n",
    "    print(\"Environment retrieved:\", environment.name)\n",
    "except Exception as e:\n",
    "    print(\"Failed to retrieve environment:\", str(e))\n",
    "    raise\n",
    "\n",
    "# Define the AKS compute target name\n",
    "aks_name = \"aks-cluster\"\n",
    "\n",
    "# Check if the AKS compute target already exists\n",
    "try:\n",
    "    aks_target = ComputeTarget(workspace=ws, name=aks_name)\n",
    "    print(\"AKS compute target already exists:\", aks_name)\n",
    "except ComputeTargetException:\n",
    "    print(\"Creating a new AKS compute target...\")\n",
    "\n",
    "    # Define the AKS configuration\n",
    "    aks_config = AksCompute.provisioning_configuration(\n",
    "        vm_size=\"Standard_D2_v2\",  # Use a larger VM size\n",
    "        agent_count=3,  # Number of nodes in the cluster\n",
    "        location=\"eastus\"  # Replace with your preferred region\n",
    "    )\n",
    "\n",
    "    # Create the AKS compute target\n",
    "    try:\n",
    "        aks_target = ComputeTarget.create(workspace=ws, name=aks_name, provisioning_configuration=aks_config)\n",
    "        aks_target.wait_for_completion(show_output=True)\n",
    "    except Exception as e:\n",
    "        print(\"Failed to create AKS compute target:\", str(e))\n",
    "        raise\n",
    "\n",
    "# Define the inference configuration\n",
    "try:\n",
    "    inference_config = InferenceConfig(\n",
    "        entry_script=\"score.py\",  # Script to handle incoming requests\n",
    "        environment=environment  # Use the custom environment\n",
    "    )\n",
    "    print(\"Inference configuration created.\")\n",
    "except Exception as e:\n",
    "    print(\"Failed to create inference configuration:\", str(e))\n",
    "    raise\n",
    "\n",
    "# Define the deployment configuration\n",
    "try:\n",
    "    aks_config = AksWebservice.deploy_configuration(\n",
    "        cpu_cores=0.5,  # Reduce CPU request\n",
    "        memory_gb=1,  # Reduce memory request\n",
    "        description=\"Fraud Detection API\"\n",
    "    )\n",
    "    print(\"Deployment configuration created.\")\n",
    "except Exception as e:\n",
    "    print(\"Failed to create deployment configuration:\", str(e))\n",
    "    raise\n",
    "\n",
    "# Deploy the model\n",
    "try:\n",
    "    aks_service = Model.deploy(\n",
    "        workspace=ws,\n",
    "        name=\"fraud-detection-api\",\n",
    "        models=[Model(ws, \"lightgbm-fraud-detection\")],  # Use the registered model\n",
    "        inference_config=inference_config,\n",
    "        deployment_config=aks_config,\n",
    "        deployment_target=aks_target  # Use the AKS compute target\n",
    "    )\n",
    "    aks_service.wait_for_deployment(show_output=True)\n",
    "    print(\"Deployment completed. Service URL:\", aks_service.scoring_uri)\n",
    "except Exception as e:\n",
    "    print(\"Failed to deploy model:\", str(e))\n",
    "    raise"
   ]
  },
  {
   "cell_type": "code",
   "execution_count": 28,
   "metadata": {
    "gather": {
     "logged": 1739058499984
    }
   },
   "outputs": [
    {
     "name": "stdout",
     "output_type": "stream",
     "text": [
      "Authentication Key: RRClXaXfnIaNKqtafoYhQPALQVp3j9mo\n"
     ]
    }
   ],
   "source": [
    "from azureml.core.webservice import AksWebservice\n",
    "\n",
    "# Retrieve the deployed service\n",
    "aks_service = AksWebservice(workspace=ws, name=\"fraud-detection-api\")\n",
    "\n",
    "# Get the authentication key\n",
    "auth_key = aks_service.get_keys()[0]  # Use the primary key\n",
    "print(\"Authentication Key:\", auth_key)"
   ]
  },
  {
   "cell_type": "code",
   "execution_count": 30,
   "metadata": {
    "gather": {
     "logged": 1739058659531
    }
   },
   "outputs": [
    {
     "name": "stdout",
     "output_type": "stream",
     "text": [
      "Response Status Code: 200\n",
      "Prediction Result: {\"predictions\": [0]}\n"
     ]
    }
   ],
   "source": [
    "import requests\n",
    "import json\n",
    "\n",
    "# Service URL\n",
    "service_url = \"http://48.217.133.143:80/api/v1/service/fraud-detection-api/score\"\n",
    "\n",
    "# Sample input data (replace with actual data)\n",
    "sample_input = {\n",
    "    \"data\": [\n",
    "        {\n",
    "            \"Time\": 0.0,\n",
    "            \"V1\": -1.359807,\n",
    "            \"V2\": -0.072781,\n",
    "            \"V3\": 2.536347,\n",
    "            \"V4\": 1.378155,\n",
    "            \"V5\": -0.338321,\n",
    "            \"V6\": 0.462388,\n",
    "            \"V7\": 0.239599,\n",
    "            \"V8\": 0.098698,\n",
    "            \"V9\": 0.363787,\n",
    "            \"V10\": 0.090794,\n",
    "            \"V11\": -0.551600,\n",
    "            \"V12\": -0.617801,\n",
    "            \"V13\": -0.991390,\n",
    "            \"V14\": -0.311169,\n",
    "            \"V15\": 1.468177,\n",
    "            \"V16\": -0.470401,\n",
    "            \"V17\": 0.207971,\n",
    "            \"V18\": 0.025791,\n",
    "            \"V19\": 0.403993,\n",
    "            \"V20\": 0.251412,\n",
    "            \"V21\": -0.018307,\n",
    "            \"V22\": 0.277838,\n",
    "            \"V23\": -0.110474,\n",
    "            \"V24\": 0.066928,\n",
    "            \"V25\": 0.128539,\n",
    "            \"V26\": -0.189115,\n",
    "            \"V27\": 0.133558,\n",
    "            \"V28\": -0.021053,\n",
    "            \"Amount\": 149.62\n",
    "        }\n",
    "    ]\n",
    "}\n",
    "\n",
    "# Convert input data to JSON\n",
    "input_data = json.dumps(sample_input)\n",
    "\n",
    "# Set headers with authentication key\n",
    "headers = {\n",
    "    \"Content-Type\": \"application/json\",\n",
    "    \"Authorization\": f\"Bearer {auth_key}\"  # Include the authentication key\n",
    "}\n",
    "\n",
    "# Send request to the API\n",
    "response = requests.post(service_url, input_data, headers=headers)\n",
    "\n",
    "# Print the response\n",
    "print(\"Response Status Code:\", response.status_code)\n",
    "print(\"Prediction Result:\", response.json())"
   ]
  },
  {
   "cell_type": "code",
   "execution_count": null,
   "metadata": {},
   "outputs": [],
   "source": [
    "import os\n",
    "\n",
    "# Print current working directory\n",
    "print(\"Current working directory:\", os.getcwd())\n",
    "\n",
    "# List files in the current working directory\n",
    "print(\"Files in the current working directory:\", os.listdir())"
   ]
  }
 ],
 "metadata": {
  "kernel_info": {
   "name": "python38-azureml"
  },
  "kernelspec": {
   "display_name": "Python 3.8 - AzureML",
   "language": "python",
   "name": "python38-azureml"
  },
  "language_info": {
   "codemirror_mode": {
    "name": "ipython",
    "version": 3
   },
   "file_extension": ".py",
   "mimetype": "text/x-python",
   "name": "python",
   "nbconvert_exporter": "python",
   "pygments_lexer": "ipython3",
   "version": "3.10.11"
  },
  "microsoft": {
   "host": {
    "AzureML": {
     "notebookHasBeenCompleted": true
    }
   },
   "ms_spell_check": {
    "ms_spell_check_language": "en"
   }
  },
  "nteract": {
   "version": "nteract-front-end@1.0.0"
  }
 },
 "nbformat": 4,
 "nbformat_minor": 2
}
